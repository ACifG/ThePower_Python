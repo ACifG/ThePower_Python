{
 "cells": [
  {
   "cell_type": "markdown",
   "id": "22d9adb5",
   "metadata": {},
   "source": [
    "# EJERCICIOS ENTREGABLES PYTHON"
   ]
  },
  {
   "cell_type": "markdown",
   "id": "913ebf7c",
   "metadata": {},
   "source": [
    "## EJERCICIO 1. \n",
    "\n",
    "Escribe una función que reciba una cadena de texto como parámetro y devuelva un diccionario con las frecuencias\n",
    "de cada letra en la cadena. Los espacios no deben ser considerados."
   ]
  },
  {
   "cell_type": "code",
   "execution_count": null,
   "id": "eb9ba0ee",
   "metadata": {},
   "outputs": [
    {
     "name": "stdout",
     "output_type": "stream",
     "text": [
      "{'h': 2, 'o': 3, 'l': 3, 'a': 5, 'c': 3, 'r': 2}\n"
     ]
    }
   ],
   "source": [
    "# Función 1: Haciend uso de bucles, sin usar función count()\n",
    "\n",
    "def cuenta_letras(cadena_texto):\n",
    "    \n",
    "    \"\"\"Función que dada una cadena de texto, devuelve un diccionario\n",
    "    cuyas claves son las letras que aparecen en la cadena y los valores\n",
    "    son las veces que aparece cada una de estas letras. No se deben considerar los espacios.\n",
    "\n",
    "\n",
    "    Args:\n",
    "        cadena_texto (string): Cadena de texto proporcionada como parámetro\n",
    "\n",
    "    Return:\n",
    "        dictionary (dict): Diccioario con frecuencia de cada letra\n",
    "    \"\"\"\n",
    "\n",
    "    # Nos aseguramos de que el argumento introducido sea un string\n",
    "    if not isinstance(cadena_texto,str):\n",
    "        raise TypeError(\"Por favor, introduce una cadena de texto\")\n",
    "    \n",
    "    # Inicializamos el diccionario vacío\n",
    "    diccionario = {}\n",
    "\n",
    "    for letra in cadena_texto.lower().replace(\" \", \"\"):\n",
    "        if not letra in diccionario.keys():\n",
    "            diccionario[letra] = 1\n",
    "        if letra in diccionario.keys():\n",
    "            diccionario[letra] += 1\n",
    "\n",
    "    return diccionario\n",
    "\n",
    "cadena_texto = \"Hola caracola\"\n",
    "letras = cuenta_letras(cadena_texto)\n",
    "print(letras)"
   ]
  },
  {
   "cell_type": "code",
   "execution_count": null,
   "id": "be443238",
   "metadata": {},
   "outputs": [
    {
     "name": "stdout",
     "output_type": "stream",
     "text": [
      "{'c': 2, 'a': 4, 'h': 0, 'l': 2, 'o': 2, 'r': 1}\n"
     ]
    }
   ],
   "source": [
    "# Función 2: Haciendo uso de sets y la función count()\n",
    "\n",
    "def cuenta_letras_2(cadena_texto):\n",
    "\n",
    "    \"\"\"Función que dada una cadena de texto, devuelve un diccionario\n",
    "    cuyas claves son las letras que aparecen en la cadena y los valores\n",
    "    son las veces que aparece cada una de estas letras. No se deben considerar los espacios.\n",
    "\n",
    "\n",
    "    Args:\n",
    "        cadena_texto (string): Cadena de texto proporcionada como parámetro\n",
    "\n",
    "    Return:\n",
    "        dictionary (dict): Diccioario con frecuencia de cada letra\n",
    "    \"\"\"\n",
    "    \n",
    "    # Nos aseguramos de que el argumento introducido sea un string\n",
    "    if not isinstance(cadena_texto,str):\n",
    "        raise TypeError(\"Por favor, introduce una cadena de texto.\")\n",
    "    \n",
    "    # Obtenemos todas las letras únicas del string, eliminando espacios en blanco y pasando todo a minúscula\n",
    "    letras = set(cadena_texto.lower().replace(\" \",\"\"))\n",
    "    \n",
    "    # Inicializamos el dicciconario\n",
    "    diccionario = {}\n",
    "\n",
    "    # Recorremos el set de las letras y contamos cuantas hay de cada una en la cadena original\n",
    "    for letra in letras:\n",
    "        diccionario[letra] = cadena_texto.count(letra)\n",
    "\n",
    "    # Devolvemos el diccionario\n",
    "    return diccionario\n",
    "\n",
    "argumento = \"Hola caracola\"\n",
    "letras = cuenta_letras_2(argumento)\n",
    "print(letras)\n"
   ]
  },
  {
   "cell_type": "markdown",
   "id": "04ef2ee2",
   "metadata": {},
   "source": [
    "## EJERCICIO 2\n",
    "\n",
    "Dada una lista de números, obtén una nueva lista con el doble de cada valor. Usa la función map()"
   ]
  },
  {
   "cell_type": "code",
   "execution_count": null,
   "id": "4ea19a5f",
   "metadata": {},
   "outputs": [],
   "source": [
    "# FUNCION 1: Función con map() y lambda.\n",
    "\n",
    "def lista_dobles(lista_nums):\n",
    "    \"\"\"Dada una lista de números, obtén una nueva lista con el doble de cada valor. Usa la función map()\n",
    "\n",
    "    Args:\n",
    "        lista_nums (list): Lista de números introducidos\n",
    "\n",
    "    Returns:\n",
    "        lista_dobles: Lista de números. El valor de cada elemento es el doble de cada elemento de la lista introducida como argumento.\n",
    "    \"\"\"\n",
    "    # Utilizamos una función lambda para realizar esta función sobre cada elemento con map(), y la convertimos en lista\n",
    "    lista_dobles = list(map((lambda num: num*2), lista_nums))\n",
    "    return lista_dobles\n",
    "\n",
    "lista_nums = [1,2,3,4,5,22]\n",
    "lista_dobles = lista_dobles(lista_nums)\n",
    "print(lista_dobles)"
   ]
  },
  {
   "cell_type": "code",
   "execution_count": 29,
   "id": "ab7021cf",
   "metadata": {},
   "outputs": [
    {
     "name": "stdout",
     "output_type": "stream",
     "text": [
      "[2, 4, 6, 8, 10, 44]\n"
     ]
    }
   ],
   "source": [
    "# FUNCIÓN 2: Esta función no es igual de compacta y necesitaría una \"función auxiliar\"\n",
    "\n",
    "def lista_dobles_2(lista_nums):\n",
    "    return list(map(dobla_valores,lista_nums))\n",
    "\n",
    "def dobla_valores(num):\n",
    "    return num*2\n",
    "\n",
    "lista_nums = [1,2,3,4,5,22]\n",
    "lista_dobles = lista_dobles_2(lista_nums)\n",
    "print(lista_dobles)"
   ]
  },
  {
   "cell_type": "markdown",
   "id": "186f99a6",
   "metadata": {},
   "source": [
    "## EJERCICIO 3\n",
    "Escribe una función que tome una lista de palabras y una palabra objetivo como parámetros. La función debe\n",
    "devolver una lista con todas las palabras de la lista original que contengan la palabra objetivo."
   ]
  },
  {
   "cell_type": "code",
   "execution_count": 30,
   "id": "ceb4bd5a",
   "metadata": {},
   "outputs": [
    {
     "name": "stdout",
     "output_type": "stream",
     "text": [
      "['caravana', 'caraMelo']\n"
     ]
    }
   ],
   "source": [
    "def lista_palabra_objetivo(lista_original, palabra_objetivo):\n",
    "    \"\"\" Escribe una función que tome una lista de palabras y una palabra objetivo como parámetros. La función debe \n",
    "        devolver una lista con todas las palabras de la lista original que contengan la palabra objetivo.   \n",
    "\n",
    "    Args:\n",
    "        lista_original (list): Lista de plabras originales a comprobar.\n",
    "        palabra(str): Palabra objetivo a comprobar en la lista 'lista_palabras'.\n",
    "\n",
    "    Returns:\n",
    "        lista_palabras: lista de palabras de la lista original que contienen la palabra objetivo\n",
    "    \"\"\"\n",
    "    # Creamos una lista de palabras vacía\n",
    "    lista_palabras = [] \n",
    "    \n",
    "    # Comprobamos que los tipos de los argumentos son los adecuados.\n",
    "    if not isinstance(palabra_objetivo, str): \n",
    "        raise TypeError (\"Por favor, indica una palabra objetivo.\")\n",
    "    elif not isinstance(lista_original, list): \n",
    "        raise TypeError (\"Por favor, indica una lista de palabras.\")\n",
    "    \n",
    "    # Realizamos un bucle comprobando que cada elemento de la lista es una palabra, y si coincide, lo sumamos a la lista\n",
    "    for palabra in lista_original:\n",
    "        if not isinstance(palabra, str):\n",
    "            raise TypeError(\"El contenido de la lista deben ser de tipo string\")\n",
    "        if palabra_objetivo.lower() in palabra.lower():\n",
    "            lista_palabras.append(palabra)\n",
    "\n",
    "    return lista_palabras\n",
    "\n",
    "lista_original = [\"Hola\", \"caravana\", \"Joroba\", \"Casa\", \"caraMelo\"]\n",
    "palabra_objetivo = \"cara\"\n",
    "lista_palabras = lista_palabra_objetivo(lista_original, palabra_objetivo)\n",
    "print(lista_palabras)"
   ]
  },
  {
   "cell_type": "markdown",
   "id": "9e689a50",
   "metadata": {},
   "source": [
    "## EJERCICIO 4.\n",
    "Genera una función que calcule la diferencia entre los valores de dos listas. Usa la función map()"
   ]
  },
  {
   "cell_type": "code",
   "execution_count": 31,
   "id": "3233c43a",
   "metadata": {},
   "outputs": [
    {
     "name": "stdout",
     "output_type": "stream",
     "text": [
      "[7, 3, 0, 2, 12]\n"
     ]
    }
   ],
   "source": [
    "# FUNCIÓN 1. Haciendo uso de la función lambda y zip()\n",
    "\n",
    "def ejercicio_4(lista1, lista2):\n",
    "    \"\"\"\n",
    "    Genera una función que calcule la diferencia entre los valores de dos listas.\n",
    "    Usa la función map()\n",
    "\n",
    "    Args:\n",
    "        lista1 (list): Lista de valores \n",
    "        lista2 (lista): Lista de valores\n",
    "\n",
    "    Returns:\n",
    "        lista_dif: diferencia entre los valores de los elementos de dos listas\n",
    "    \"\"\"\n",
    "    # Comprobamos que las listas tienen la misma longitud\n",
    "    if len(lista1) == len(lista2):\n",
    "        return list(map(lambda x: abs(x[0]-x[1]),zip(lista1, lista2)))\n",
    "    else:\n",
    "        raise IndexError(\"Las listas deben tener la misma longitud.\")\n",
    "\n",
    "lista1 = [3,5,1,6,10]\n",
    "lista2 = [10,8,1,4,-2]\n",
    "lista_dif = ejercicio_4(lista1, lista2)\n",
    "print(lista_dif)"
   ]
  },
  {
   "cell_type": "code",
   "execution_count": 32,
   "id": "02d8be0b",
   "metadata": {},
   "outputs": [
    {
     "name": "stdout",
     "output_type": "stream",
     "text": [
      "[7, 3, 0, 2, 12]\n"
     ]
    }
   ],
   "source": [
    "# FUNCIÓN 2. Sin hacer uso de las funciones lambda.\n",
    "\n",
    "# Generamos una función que calcula la diferencia en valor absoluto.\n",
    "def diff(num1, num2):\n",
    "    return abs(num1-num2)\n",
    "\n",
    "def ejercicio_4_2(lista1, lista2):\n",
    "    # Comprobamos que las listas tengan la misma longitud\n",
    "    if len(lista1) == len(lista2):\n",
    "        lista_dif = map(diff,(lista1, lista2))\n",
    "        return lista_dif\n",
    "    else:\n",
    "        raise IndexError(\"Las listas deben tener la misma longitud.\")\n",
    "    \n",
    "lista1 = [3,5,1,6,10]\n",
    "lista2 = [10,8,1,4,-2]\n",
    "lista_dif = ejercicio_4(lista1, lista2)\n",
    "print(lista_dif)"
   ]
  },
  {
   "cell_type": "markdown",
   "id": "78be4271",
   "metadata": {},
   "source": [
    "## EJERCICIO 5\n",
    "Ecribe una función que tome una lista de números como parámetro y un valor opcional nota_aprobado, que por\n",
    "defecto es 5. La función debe calcular la media de los números en la lista y determinar si la media es mayor o igual\n",
    "que nota aprobado. Si es así, el estado será \"aprobado\", de lo contrario, será \"suspenso\". La función debe devolver\n",
    "una tupla que contenga la media y el estado."
   ]
  },
  {
   "cell_type": "code",
   "execution_count": 33,
   "id": "f1cf88b8",
   "metadata": {},
   "outputs": [
    {
     "name": "stdout",
     "output_type": "stream",
     "text": [
      "<class 'list'>\n",
      "(4.85, 'Suspenso')\n"
     ]
    }
   ],
   "source": [
    "# FUNCION 1.\n",
    "\n",
    "def nota_evaluacion(lista_notas: list, media: float = 5.0):\n",
    "\n",
    "    # Importamos la función math dentro del módulo\n",
    "    import statistics\n",
    "\n",
    "    # Comprobamos que los argumentos son listas de números float y un float\n",
    "    if not isinstance(lista_notas, list):\n",
    "        raise TypeError(\"Introduce una lista de notas, por favor.\")\n",
    "    if not isinstance(media, (int,float)):\n",
    "        raise TypeError(\"Introduce un valor numérico para la nota\")\n",
    "    if not all(isinstance(num, (int,float)) for num in lista_notas):\n",
    "        raise TypeError(\"Introduce valores numéricos, por favor.\")\n",
    "\n",
    "    if statistics.mean(lista_notas) >= media:\n",
    "        return (statistics.mean(lista_notas), \"Aprobado\")\n",
    "    else:\n",
    "        return(statistics.mean(lista_notas), \"Suspenso\")\n",
    "        \n",
    "lista_notas = [3.3, 1.7, 9.1, 5.3]\n",
    "print(type(lista_notas))\n",
    "tupla = nota_evaluacion(lista_notas)\n",
    "print(tupla)"
   ]
  },
  {
   "cell_type": "markdown",
   "id": "fd08a892",
   "metadata": {},
   "source": [
    "## EJERCICIO 6.\n",
    "Escribe una función que calcule el factorial de un número de manera recursiva."
   ]
  },
  {
   "cell_type": "code",
   "execution_count": 34,
   "id": "02129a25",
   "metadata": {},
   "outputs": [
    {
     "name": "stdout",
     "output_type": "stream",
     "text": [
      "120\n"
     ]
    }
   ],
   "source": [
    "def recursiva_factorial(num: float):\n",
    "    \"\"\"\n",
    "    Función recursiva que calcula el factorial de un número.\n",
    "\n",
    "    Args:\n",
    "        num (int): número entero del que queremos calcular su factorial.\n",
    "\n",
    "    Returns:\n",
    "        factorial: factorial del número introducido.\n",
    "    \"\"\"\n",
    "    # Nos aseguramos de que el número introducido es un entero\n",
    "    if not isinstance(num, int):\n",
    "        # Si es numérico pero float, y positivo, redondeamos su valor\n",
    "        if type(num) == float and num >= 0:\n",
    "            num = int(round(num))\n",
    "        # Imprimimos un error en caso contrario\n",
    "        else:\n",
    "            raise TypeError(\"Introduzca un número entero, por favor.\")\n",
    "        \n",
    "    # Establecemos un caso base\n",
    "    if num == 0:\n",
    "        return 1\n",
    "    # Realizamos una llamada recursiva\n",
    "    else:\n",
    "        return num * recursiva_factorial(num - 1)\n",
    "\n",
    "factorial = recursiva_factorial(5)\n",
    "print(factorial)\n",
    "    "
   ]
  },
  {
   "cell_type": "markdown",
   "id": "5a184611",
   "metadata": {},
   "source": [
    "## EJERCICIO 7\n",
    "Genera una función que convierta una lista de tuplas a una lista de strings. Usa la función map()\n"
   ]
  },
  {
   "cell_type": "code",
   "execution_count": 35,
   "id": "02d7974a",
   "metadata": {},
   "outputs": [
    {
     "name": "stdout",
     "output_type": "stream",
     "text": [
      "['Hola Fernando', '2 Veces']\n"
     ]
    }
   ],
   "source": [
    "# FUNCION 1\n",
    "\n",
    "def tupla2list_str(lista_tuplas):\n",
    "    \"\"\"\n",
    "    Genera una función que convierta una lista de tuplas a una lista de strings. Usa la función map().\n",
    "\n",
    "    Args:\n",
    "        tupla (_type_): tupla con strings que deseamos convertir a una lista.\n",
    "\n",
    "    Returns:\n",
    "        _type_: lista con los strings de la tupla original.\n",
    "    \"\"\"\n",
    "    if not isinstance(lista_tuplas, list):\n",
    "        raise TypeError(\"Se debe introducir una lista de tuplas.\")\n",
    "    if not all(isinstance(tupla, tuple) for tupla in lista_tuplas):\n",
    "        raise TypeError(\"Los elementos de la lista deben ser tuplas.\")\n",
    "    \n",
    "    # Incializamos una lista vacía\n",
    "    lista_strings = []\n",
    "    # Recorremos la lista de tuplas y guardamos el contenido separando los elementos de las tuplas por un espacio\n",
    "    for tupla in lista_tuplas:\n",
    "        lista_strings.append(\" \".join(list(map(str, tupla))))\n",
    "    return lista_strings\n",
    "\n",
    "lista_tuplas = [(\"Hola\", \"Fernando\"), (2, \"Veces\")]\n",
    "lista = tupla2list_str(lista_tuplas)\n",
    "print(lista)"
   ]
  },
  {
   "cell_type": "markdown",
   "id": "31f8521f",
   "metadata": {},
   "source": [
    "## EJERCICIO 8\n",
    "Escribe un programa que pida al usuario dos números e intente dividirlos. Si el usuario ingresa un valor no numérico \n",
    "o intenta dividir por cero, maneja esas excepciones de manera adecuada. Asegúrate de mostrar un mensaje \n",
    "indicando si la división fue exitosa o no."
   ]
  },
  {
   "cell_type": "code",
   "execution_count": 36,
   "id": "d41f8539",
   "metadata": {},
   "outputs": [
    {
     "name": "stdout",
     "output_type": "stream",
     "text": [
      "La división se ha realizado con éxito.\n",
      "3.0\n"
     ]
    }
   ],
   "source": [
    "def dividir(dividendo, divisor):\n",
    "    \"\"\"\n",
    "    Escribe un programa que pida al usuario dos números e intente dividirlos. Si el usuario ingresa un valor no numérico \n",
    "    o intenta dividir por cero, maneja esas excepciones de manera adecuada. Asegúrate de mostrar un mensaje \n",
    "    indicando si la división fue exitosa o no.\n",
    "\n",
    "    Args:\n",
    "        dividendo (int, float): número introducido como dividendo.\n",
    "        divisor (inft, float): número introducido como divisor.\n",
    "\n",
    "    Raises:\n",
    "        TypeError: Tiene lugar si los argumentos de la función no son valores numéricos.\n",
    "        ValueError: Tiene lugr si intentamos introducir un divisor igual a 0. Evitaríamos así la visión entre 0.\n",
    "\n",
    "    Returns:\n",
    "        dividendo/divisor: división de los dos números introducidos\n",
    "    \"\"\"\n",
    "\n",
    "    if not isinstance(dividendo, (float, int)) or not isinstance(divisor, (float, int)):\n",
    "        print(\"La división no ha podido realizarse.\")\n",
    "        raise TypeError(\"Por favor, introduzca valores numéricos.\")\n",
    "    elif divisor == 0:\n",
    "        print(\"La división no ha podido realizarse.\")\n",
    "        raise ValueError(\"No puede realizarse una división entre 0.\")\n",
    "    else:\n",
    "        print(\"La división se ha realizado con éxito.\")\n",
    "        return dividendo/divisor\n",
    "    \n",
    "print(dividir(6,2))"
   ]
  },
  {
   "cell_type": "markdown",
   "id": "4e3b512e",
   "metadata": {},
   "source": [
    "## EJERCICI 9\n",
    "Escribe una función que tome una lista de nombres de mascotas como parámetro y devuelva una nueva lista \n",
    "excluyendo ciertas mascotas prohibidas en España. La lista de mascotas a excluir es [\"Mapache\", \"Tigre\", \n",
    "\"Serpiente Pitón\", \"Cocodrilo\", \"Oso\"].Usa la función filter()"
   ]
  },
  {
   "cell_type": "code",
   "execution_count": 37,
   "id": "db52885a",
   "metadata": {},
   "outputs": [
    {
     "name": "stdout",
     "output_type": "stream",
     "text": [
      "['Gato', 'Perro', 'Caimán', 'Oso Panda']\n"
     ]
    }
   ],
   "source": [
    "def check_mascotas(lista_mascotas):\n",
    "\n",
    "    mascotas_prohibidas = [\"Mapache\", \"Tigre\", \"Serpiente Pitón\", \"Cocodrilo\", \"Oso\"]\n",
    "    return list(filter((lambda mascota: mascota not in mascotas_prohibidas),lista_mascotas))\n",
    "\n",
    "print(check_mascotas([\"Serpiente Pitón\", \"Gato\", \"Perro\", \"Caimán\", \"Oso Panda\"]))"
   ]
  },
  {
   "cell_type": "markdown",
   "id": "ee0be219",
   "metadata": {},
   "source": [
    "## EJERCICIO 10\n",
    "Escribe una función que reciba una lista de números y calcule su promedio. Si la lista está vacía, lanza una \n",
    "excepción personalizada y maneja el error adecuadamente."
   ]
  },
  {
   "cell_type": "code",
   "execution_count": 38,
   "id": "ddfa28c9",
   "metadata": {},
   "outputs": [
    {
     "name": "stdout",
     "output_type": "stream",
     "text": [
      "Error de lista vacía: La lista está vacía. No se puede calcular el promedio\n",
      "None\n"
     ]
    }
   ],
   "source": [
    "# Para poder definir una excepción personalizada hay que generar una nueva clase, que heredará de la clase Exception.\n",
    "class ListaVaciaError(Exception):\n",
    "    \"Excepción creada para indicar que la lista está vacía\"\n",
    "    pass\n",
    "\n",
    "def calculo_promedio(lista_numeros):\n",
    "    \n",
    "    import statistics\n",
    "    \n",
    "    try: \n",
    "        # Comprobamos los tipos tano de la lista como de los elementos.\n",
    "        if not isinstance(lista_numeros, list):\n",
    "            raise TypeError(\"El argumento debe ser una lista de números.\")\n",
    "        if not all(isinstance(num, (int, float)) for num in lista_numeros):\n",
    "            raise TypeError(\"Los elementos de la lista deben ser numéricos.\")\n",
    "        # Comprobamos que la lista no esté vacía.\n",
    "        if not lista_numeros:\n",
    "            raise ListaVaciaError(\"La lista está vacía. No se puede calcular el promedio\")\n",
    "        \n",
    "        # Calculamos la media de la lista de números\n",
    "        return statistics.mean(lista_numeros)\n",
    "    \n",
    "    # Manejamos las excepciones\n",
    "    except ListaVaciaError as e:\n",
    "        print(f\"Error de lista vacía: {e}\")\n",
    "    except TypeError as e:\n",
    "        print(f\"Error: {e}\")\n",
    "\n",
    "print(calculo_promedio([]))\n"
   ]
  },
  {
   "cell_type": "markdown",
   "id": "f79eed79",
   "metadata": {},
   "source": [
    "## EJERCICIO 11\n",
    "Escribe un programa que pida al usuario que introduzca su edad. Si el usuario ingresa un valor no numérico o un \n",
    "valor fuera del rango esperado (por ejemplo, menor que 0 o mayor que 120), maneja las excepciones \n",
    "adecuadamente."
   ]
  },
  {
   "cell_type": "code",
   "execution_count": 39,
   "id": "3c65cc35",
   "metadata": {},
   "outputs": [
    {
     "name": "stdout",
     "output_type": "stream",
     "text": [
      "El usuario tiene 39 años.\n"
     ]
    }
   ],
   "source": [
    "try:\n",
    "    # Se pregunta la edad al usuario.\n",
    "    edad = int(input(\"Por favor, introduzca su edad: \"))\n",
    "\n",
    "    # Comprobamos que la edad es de tipo numérico\n",
    "    if not isinstance(edad, int):\n",
    "        raise TypeError(\"La edad introducida debe ser numérica.\")\n",
    "    # Comprobamos que la edad esté en el rango correcto:\n",
    "    if edad < 0 or edad > 120:\n",
    "        raise ValueError(\"La edad debe estar entre 0 y 120 años.\")\n",
    "    \n",
    "    print(f\"El usuario tiene {edad} años.\")\n",
    "\n",
    "except (TypeError, ValueError) as e:\n",
    "    print(f\"Error: {e}\")"
   ]
  },
  {
   "cell_type": "markdown",
   "id": "70473f4f",
   "metadata": {},
   "source": [
    "## EJERCICIO 12\n",
    " Genera una función que al recibir una frase devuelva una lista con la longitud de cada palabra. Usa la función map()"
   ]
  },
  {
   "cell_type": "code",
   "execution_count": 42,
   "id": "80d4800d",
   "metadata": {},
   "outputs": [
    {
     "name": "stdout",
     "output_type": "stream",
     "text": [
      "[4, 6]\n"
     ]
    }
   ],
   "source": [
    "def longitud_palabra(frase):\n",
    "    \n",
    "    try:\n",
    "        if not isinstance(frase, str):\n",
    "            raise TypeError(\"Por favor, introduce una frase.\")\n",
    "        # len nos permite contar la longitud de cada palabra\n",
    "        # split nos divide la cadena de caracteres en una lista con cada una de las palabras.\n",
    "        return list(map(len, frase.split()))\n",
    "    except TypeError as e:\n",
    "        print(f\"Error: {e}\")\n",
    "\n",
    "print(longitud_palabra(\"Hola Juanjo\"))"
   ]
  },
  {
   "cell_type": "markdown",
   "id": "897493b8",
   "metadata": {},
   "source": [
    "## EJERCICIO 13\n",
    "Genera una función la cual, para un conjunto de caracteres, devuelva una lista de tuplas con cada letra en \n",
    "mayúsculas y minúsculas. Las letras no pueden estar repetidas .Usa la función map()"
   ]
  },
  {
   "cell_type": "code",
   "execution_count": 43,
   "id": "80267796",
   "metadata": {},
   "outputs": [
    {
     "name": "stdout",
     "output_type": "stream",
     "text": [
      "[(3, 2), (1, 0), (5, 1)]\n",
      "[(4, 1), (1, 0), (6, 1)]\n"
     ]
    }
   ],
   "source": [
    "class RepeatError(Exception):\n",
    "    \"\"\" Excepción generada para el caso en el que se repitan letras en la palabra.\"\"\"\n",
    "    pass\n",
    "\n",
    "def minus_mayus(cadena_caracteres):\n",
    "\n",
    "    # Comprobamos que no se repiten letras:\n",
    "    try:\n",
    "        # Generamos listas vacías\n",
    "        minus = []\n",
    "        mayus = []\n",
    "        for palabra in cadena_caracteres.split():\n",
    "            letras_unicas = list(palabra)\n",
    "            # con isalpha() obtenemos la lista normalizada si son mayusculas\n",
    "            letras_normalizadas = [letra.lower() for letra in letras_unicas if letra.isalpha()]\n",
    "            # comparamos los tamaños ignorando si son mayusculas o minusculas\n",
    "            if len(letras_unicas) != len(letras_normalizadas):\n",
    "                raise RepeatError(f\"Existen letras repetidas en la palabra '{palabra}'\")\n",
    "            # Una vez elevada una excepción en caso de repetidas, almacenamos mayusculas y minúsculas\n",
    "            minus.append(list(map(str.islower,palabra)).count(True))\n",
    "            mayus.append(list(map(str.isupper, palabra)).count(True))\n",
    "\n",
    "        # Devolvemos una tupla con los elementos de cada lista con zip\n",
    "        return list(zip(minus, mayus))\n",
    "    except Exception as e:\n",
    "        print(f\"Error: {e}\")\n",
    "\n",
    "print(minus_mayus(\"CarAs y Buenos\"))\n",
    "print(minus_mayus(\"Caros y Bonitos\"))\n",
    "\n",
    "## Hay que revisar el caso de las mayúsculas"
   ]
  },
  {
   "cell_type": "markdown",
   "id": "a1164552",
   "metadata": {},
   "source": [
    "## EJERCICIO 14\n",
    "Crea una función que retorne las palabras de un lista de palabras\n",
    "que comience con una letra en específico. Usa la función filter()"
   ]
  },
  {
   "cell_type": "code",
   "execution_count": 44,
   "id": "e7c80c41",
   "metadata": {},
   "outputs": [
    {
     "name": "stdout",
     "output_type": "stream",
     "text": [
      "['Ratón', 'rosa']\n"
     ]
    }
   ],
   "source": [
    "def comienza_con(lista_palabras, letra):\n",
    "    # La función startswitch() comprueba si una cadena comienza con el prefijo especificado.\n",
    "    # La función filter() aplica una función a cada elemento de un iterable y devuelve un iterador con los elementos que cumplen la condición.\n",
    "    try:\n",
    "        # Convertimos la letra a minúsculas para hacer la comparación insensible a mayúsculas/minúsculas\n",
    "        if not isinstance(letra, str) or len(letra) != 1:\n",
    "            raise TypeError(\"Por favor, introduce una letra válida.\")\n",
    "        letra = letra.lower()\n",
    "        if not isinstance(lista_palabras, list):\n",
    "            raise TypeError(\"Por favor, introduce una lista de palabras.\")\n",
    "        return list(filter(lambda x: x.lower().startswith(letra),lista_palabras))\n",
    "    except TypeError as e:\n",
    "        print(f\"Error: {e}\")\n",
    "\n",
    "lista_palabras = [\"Ratón\", \"cabeza\", \"Zanahoria\", \"Arturo\", \"rosa\"]\n",
    "letra = 'r'\n",
    "print(comienza_con(lista_palabras, letra))"
   ]
  },
  {
   "cell_type": "markdown",
   "id": "7ec4068f",
   "metadata": {},
   "source": [
    "## EJERCICIO 15\n",
    "Crea una función lambda que  sume 3 a cada número de una lista dada."
   ]
  },
  {
   "cell_type": "code",
   "execution_count": 45,
   "id": "dea2f600",
   "metadata": {},
   "outputs": [
    {
     "name": "stdout",
     "output_type": "stream",
     "text": [
      "[4, 5, 6, 7, 8]\n",
      "[]\n",
      "Error: Por favor, introduce una lista de números.\n",
      "None\n",
      "Error: can only concatenate str (not \"int\") to str\n",
      "None\n"
     ]
    }
   ],
   "source": [
    "def suma_tres(lista_numeros):\n",
    "    \"\"\"Función lmbda que suma 3 a cada número de una lista dada.\"\"\"\n",
    "    try:\n",
    "        if not isinstance(lista_numeros, list):\n",
    "            raise TypeError(\"Por favor, introduce una lista de números.\")\n",
    "        # map aplica la función lambda a cada elemento de la lista\n",
    "        return list(map(lambda x: x + 3, lista_numeros))\n",
    "    except TypeError as e:\n",
    "        print(f\"Error: {e}\")\n",
    "\n",
    "print(suma_tres([1, 2, 3, 4, 5]))\n",
    "print(suma_tres([]))  \n",
    "print(suma_tres(\"Hola\"))  \n",
    "print(suma_tres([-1,3,\"tres\"]))  # Esto generará un error porque \"tres\" no es un número"
   ]
  },
  {
   "cell_type": "markdown",
   "id": "7d27a8ef",
   "metadata": {},
   "source": [
    "## EJERCICIO 16\n",
    "Función que toma una cadena de texto y un número entero\n",
    "n como parámetros y devuelve una lista de todas las palabras\n",
    "que sean más largas que n. Usa la función filter()"
   ]
  },
  {
   "cell_type": "code",
   "execution_count": 46,
   "id": "9f744400",
   "metadata": {},
   "outputs": [
    {
     "name": "stdout",
     "output_type": "stream",
     "text": [
      "['Hola', 'gente', 'vamos', 'Mallorca']\n"
     ]
    }
   ],
   "source": [
    "def mayor_n(cadena_texto, n):\n",
    "    import re\n",
    "    try:\n",
    "        # Manejamos los errores:\n",
    "        if not isinstance(cadena_texto, str):\n",
    "            raise TypeError(\"Por favor, introduce una cadena de texto\")\n",
    "        if not isinstance(n, int):\n",
    "            raise TypeError(\"Por favor, introduce una longitud de string como entero\")\n",
    "        if n <= 0:\n",
    "            raise ValueError(\"Por favor, introduce un valor entero mayor que 0\")\n",
    "        \n",
    "        # Se puede eliminar todo aquél signo qe no sea letra\n",
    "        cadena_texto = re.sub(r\"[^\\w\\s]\", \" \", cadena_texto)\n",
    "        # Tomamos las palabras con longitud mayor que n\n",
    "        return list(filter(lambda x: len(x)>n, cadena_texto.split()))\n",
    "\n",
    "    except (TypeError, ValueError) as e:\n",
    "        print(f\"Error: {e}\")    \n",
    "\n",
    "cadena = \"Hola gente, ¿nos vamos a Mallorca?\"\n",
    "#cadena = 5\n",
    "n = 3\n",
    "print(mayor_n(cadena, n))"
   ]
  },
  {
   "cell_type": "markdown",
   "id": "fa253a9b",
   "metadata": {},
   "source": [
    "## EJERCICIO 17\n",
    "Crea una función que tome una lista de dígitos y que devuelva el número correspondiente.\n",
    "Usa la función reduce()"
   ]
  },
  {
   "cell_type": "code",
   "execution_count": 1,
   "id": "a470a7d7",
   "metadata": {},
   "outputs": [
    {
     "name": "stdout",
     "output_type": "stream",
     "text": [
      "5\n"
     ]
    }
   ],
   "source": [
    "class ListaVaciaError(Exception):\n",
    "    \"\"\"Excepción generada para el caso de listas vacías\"\"\"\n",
    "    pass\n",
    "\n",
    "def digitos_numero(lista_digitos):\n",
    "    from functools import reduce\n",
    "    if not isinstance(lista_digitos, list):\n",
    "        raise TypeError (\"Se debe proporcionar una lista de números.\")\n",
    "    if not lista_digitos:\n",
    "        raise ListaVaciaError(\"Se debe proporcionar una lista de números.\")\n",
    "    if not all(isinstance(num, int) for num in lista_digitos):\n",
    "        raise TypeError (\"Los elementos de la lista deben ser tipo int.\")\n",
    "    \n",
    "    try:\n",
    "        # reduce() aplica una función a toda una lista\n",
    "        # generamos una lambda \n",
    "        # con \"\" nos aseguramos de que en la primera iteración digit1 sea \"\"\n",
    "        # de esta forma funcionará incluso si pasamos un único dígito\n",
    "        return int(reduce(lambda digit1, digit2: digit1 +str(digit2), lista_digitos, \"\"))\n",
    "    \n",
    "    except TypeError as e:\n",
    "        print(f\"Error de tipo de dato: {e}\")\n",
    "    except ListaVaciaError as e:\n",
    "        print(f\"Error en la lista: {e}\")\n",
    "    except Exception as e:\n",
    "        print(f\"Error {e}\")\n",
    "    \n",
    "\n",
    "lista_digitos = [5]\n",
    "#lista_digitos = []\n",
    "print(digitos_numero(lista_digitos))"
   ]
  },
  {
   "cell_type": "markdown",
   "id": "0abd73fc",
   "metadata": {},
   "source": [
    "## EJERCICIO 18\n",
    "Escribe un programa en Python que cree una lista de diccionarios que contengan\n",
    "información de estudiantes (nombre, edad, calificación) y use la función filter()\n",
    "para extraer a los estudiantes con una calificación mayor o igual a 90. "
   ]
  },
  {
   "cell_type": "code",
   "execution_count": 2,
   "id": "cace0721",
   "metadata": {},
   "outputs": [
    {
     "name": "stdout",
     "output_type": "stream",
     "text": [
      "[{'Nombre': 'Jorge', 'Edad': 18, 'Calificación': 92}, {'Nombre': 'Marta', 'Edad': 31, 'Calificación': 97}]\n"
     ]
    }
   ],
   "source": [
    "def diccionario_estudiantes(nombres, edades, calificaciones):\n",
    "    try:\n",
    "        if not isinstance(nombres,list):\n",
    "            raise TypeError(\"Se debe proporcionar una lista de nombres.\")\n",
    "        if not isinstance(edades,list):\n",
    "            raise TypeError(\"Se debe proporcionar una lista de edades.\")\n",
    "        if not isinstance(calificaciones,list):\n",
    "            raise TypeError(\"Se debe proporcionar una lista de calificaciones.\")\n",
    "    \n",
    "        estudiantes = []\n",
    "        for idx, nombre in enumerate(nombres):\n",
    "            estudiantes.append({\n",
    "                'Nombre': nombre,\n",
    "                'Edad': edades[idx],\n",
    "                'Calificación': calificaciones[idx]\n",
    "            })\n",
    "\n",
    "        # Filtramos estudiantes con calificación mayor o igual a 90\n",
    "\n",
    "        return list(filter(lambda estudiante: estudiante[\"Calificación\"] >= 90, estudiantes))    \n",
    "\n",
    "    except TypeError as e:\n",
    "        print(f\"Error de tipo: {e}\")\n",
    "\n",
    "#nombres = \"Jorge\"\n",
    "nombres = [\"Jorge\", \"Ana\", \"Marta\"]\n",
    "edad = [18, 52, 31]\n",
    "calificacion = [92, 81, 97]\n",
    "estudiantes = diccionario_estudiantes(nombres, edad, calificacion)\n",
    "print(estudiantes)"
   ]
  },
  {
   "cell_type": "markdown",
   "id": "d65f82bc",
   "metadata": {},
   "source": [
    "## EJERCICIO 19\n",
    "Crea una función lambda que filtre números impares de una lista dada\n"
   ]
  },
  {
   "cell_type": "code",
   "execution_count": 3,
   "id": "7efc95c8",
   "metadata": {},
   "outputs": [
    {
     "name": "stdout",
     "output_type": "stream",
     "text": [
      "[1, 3, 5, 7]\n"
     ]
    }
   ],
   "source": [
    "def num_impares(lista_nums):\n",
    "    return list(filter(lambda x: x % 2 != 0, lista_nums))\n",
    "\n",
    "print(num_impares([1,2,3,4,5,7]))"
   ]
  },
  {
   "cell_type": "markdown",
   "id": "7dc575aa",
   "metadata": {},
   "source": [
    "## EJERCICIO 20\n",
    "Para una lista con elementos tipo integer y string,\n",
    "obtén una nueva lista sólo con los valores int. Usa la\n",
    "función filter()"
   ]
  },
  {
   "cell_type": "code",
   "execution_count": 4,
   "id": "2e108a00",
   "metadata": {},
   "outputs": [
    {
     "name": "stdout",
     "output_type": "stream",
     "text": [
      "['Hola', 1, 6, 7]\n"
     ]
    }
   ],
   "source": [
    "def lista_int(lista):\n",
    "    # Utilizamos la función isinstance en una funcion lambda\n",
    "    return list(filter(lambda elemento: isinstance(elemento, (int, str)),lista))\n",
    "\n",
    "print(lista_int([\"Hola\", 1, 6, (5,2), [\"Juan\"], 7]))"
   ]
  },
  {
   "cell_type": "markdown",
   "id": "50efd398",
   "metadata": {},
   "source": [
    "## EJERCICIO 21\n",
    "Crea una función que calcule el cubo de un número dado mediante una función lambda\n"
   ]
  },
  {
   "cell_type": "code",
   "execution_count": 5,
   "id": "3fa6814c",
   "metadata": {},
   "outputs": [
    {
     "name": "stdout",
     "output_type": "stream",
     "text": [
      "27\n"
     ]
    }
   ],
   "source": [
    "def cubo_numero(num):\n",
    "\n",
    "    try:\n",
    "        if not isinstance(num, (int, float)):\n",
    "            raise TypeError(\"Introduce un número\")\n",
    "        \n",
    "        cubo = lambda x: x**3\n",
    "        return cubo(num)\n",
    "    except TypeError as e:\n",
    "        print(f\"Error de tipo: {e}\")\n",
    "\n",
    "print(cubo_numero(3))\n"
   ]
  },
  {
   "cell_type": "markdown",
   "id": "335c4f4e",
   "metadata": {},
   "source": [
    "## EJERCICIO 22\n",
    "Dada una lista numérica, obtén el producto total de los\n",
    "valores de dicha lista. Usa la función reduce()"
   ]
  },
  {
   "cell_type": "code",
   "execution_count": 6,
   "id": "9d049ac9",
   "metadata": {},
   "outputs": [
    {
     "name": "stdout",
     "output_type": "stream",
     "text": [
      "20\n"
     ]
    }
   ],
   "source": [
    "def producto_lista(lista):\n",
    "    from functools import reduce\n",
    "    try:\n",
    "        if not isinstance(lista, list) or not all(isinstance(num, (float, int)) for num in lista):\n",
    "            raise TypeError(\"Error\")\n",
    "        return (reduce(lambda x, y: x*y, lista))\n",
    "    except TypeError as e:\n",
    "        print(f\"Error: {e}\")\n",
    "    \n",
    "print(producto_lista([1,2,10]))"
   ]
  },
  {
   "cell_type": "markdown",
   "id": "01307df8",
   "metadata": {},
   "source": [
    "## EJERCICIO 23\n",
    "Crea una función que concatene una lista de palabras. Utiliza reduce()"
   ]
  },
  {
   "cell_type": "code",
   "execution_count": 8,
   "id": "56f35798",
   "metadata": {},
   "outputs": [
    {
     "name": "stdout",
     "output_type": "stream",
     "text": [
      "Juan tiene moto\n"
     ]
    }
   ],
   "source": [
    "def concat_palabras(lista_palabras):\n",
    "    from functools import reduce\n",
    "    # La primera iteración la hace sobre un string (\"\") y un elemento de la lista que convertimos en str con un espacio en medio\n",
    "    # Como la primera estará vacía tendrá un espacio, que eliminamos con strip()\n",
    "    return reduce(lambda palabra1, palabra2: palabra1 + \" \" + str(palabra2), lista_palabras, \"\").strip()\n",
    "\n",
    "lista_palabras = [\"Juan\", \"tiene\", \"moto\"]\n",
    "\n",
    "print(concat_palabras(lista_palabras))"
   ]
  },
  {
   "cell_type": "markdown",
   "id": "768b2cd0",
   "metadata": {},
   "source": [
    "## EJERCICIO 24\n",
    "Calcula la diferencia total en los valores de una lista. Utiliza reduce()\n"
   ]
  },
  {
   "cell_type": "code",
   "execution_count": 9,
   "id": "df8d684b",
   "metadata": {},
   "outputs": [
    {
     "name": "stdout",
     "output_type": "stream",
     "text": [
      "-14\n",
      "Error de tipo: Introduce una lista de números.\n",
      "None\n",
      "Error de tipo: Introduce una lista de números.\n",
      "None\n"
     ]
    }
   ],
   "source": [
    "def diff_total(lista_nums):\n",
    "    \n",
    "    from functools import reduce\n",
    "    try:\n",
    "        if not isinstance(lista_nums, list) or not all(isinstance(num, (float, int)) for num in lista_nums):\n",
    "            raise TypeError(\"Introduce una lista de números.\")\n",
    "        \n",
    "        return reduce(lambda x,y: x-y,lista_nums)\n",
    "    except TypeError as e:\n",
    "        print(f\"Error de tipo: {e}\")\n",
    "        \n",
    "print(diff_total([1,3,5,7]))\n",
    "print(diff_total(\"\"))\n",
    "print(diff_total([1,37,-15,\"Hola\"]))"
   ]
  },
  {
   "cell_type": "markdown",
   "id": "30004d4c",
   "metadata": {},
   "source": [
    "## EJERCICIO 25\n",
    "Crea una función que cuente el número de caractéres en una cadena de texto dada.\n"
   ]
  },
  {
   "cell_type": "code",
   "execution_count": 10,
   "id": "4ce50ea2",
   "metadata": {},
   "outputs": [
    {
     "name": "stdout",
     "output_type": "stream",
     "text": [
      "5\n",
      "None\n"
     ]
    }
   ],
   "source": [
    "def num_caracteres(cadena_texto):\n",
    "\n",
    "    try:\n",
    "        if not isinstance(cadena_texto, str):\n",
    "            raise TypeError (\"Introduce una cadena de caracteres\")\n",
    "            return (len(cadena_texto.split()))\n",
    "    except TypeError as e:\n",
    "        print(f\"Error de tipo: {e}\")\n",
    "\n",
    "cadena_texto = \"Esta cadena tiene cinco palabras\"\n",
    "print(len(cadena_texto.split()))\n",
    "print(num_caracteres(cadena_texto))"
   ]
  },
  {
   "cell_type": "markdown",
   "id": "5edae6c3",
   "metadata": {},
   "source": [
    "## EJERCICIO 26\n",
    "Crea una función lambda que calcule el resto de la división entre dos números dados.\n"
   ]
  },
  {
   "cell_type": "code",
   "execution_count": 11,
   "id": "06a9cd5e",
   "metadata": {},
   "outputs": [
    {
     "name": "stdout",
     "output_type": "stream",
     "text": [
      "9\n",
      "2\n",
      "1\n"
     ]
    }
   ],
   "source": [
    "def resto_division(dividendo,divisor):\n",
    "\n",
    "    try:\n",
    "        if not isinstance((dividendo), int) or not isinstance((divisor), int):\n",
    "            raise ValueError(\"Por favor, indica un número entero.\")\n",
    "        if divisor == 0:\n",
    "            raise ZeroDivisionError(\"No podemos dividir entre 0.\")\n",
    "        calculo = lambda x,y: x % y\n",
    "\n",
    "        print(dividendo)\n",
    "        print(divisor)\n",
    "        return calculo(dividendo, divisor)\n",
    "    \n",
    "    except TypeError as e:\n",
    "        print(f\"Error en el tipo de dato: {e}\")\n",
    "    except ZeroDivisionError as e:\n",
    "        print(f\"Error en el divisor: {e}\")\n",
    "\n",
    "print(resto_division(9,2))"
   ]
  },
  {
   "cell_type": "markdown",
   "id": "9240412e",
   "metadata": {},
   "source": [
    "## EJERCICIO 27\n",
    "Crea una función que calcule el promedio de una lista de números.\n"
   ]
  },
  {
   "cell_type": "code",
   "execution_count": 12,
   "id": "6290aa50",
   "metadata": {},
   "outputs": [
    {
     "name": "stdout",
     "output_type": "stream",
     "text": [
      "4\n"
     ]
    }
   ],
   "source": [
    "def promedio_nums(lista_numeros):\n",
    "    import statistics\n",
    "    try:\n",
    "        if not isinstance(lista_numeros, list) or not all(isinstance(num, (int, float)) for num in lista_numeros):\n",
    "            raise TypeError(\"Por favor, introduce una lista de números.\")\n",
    "\n",
    "        return statistics.mean(lista_numeros)\n",
    "    \n",
    "    except TypeError as e:\n",
    "        print(f\"Error: {e}\")\n",
    "\n",
    "lista_numeros = [2,4,10,0, ]\n",
    "print(promedio_nums(lista_numeros))"
   ]
  },
  {
   "cell_type": "markdown",
   "id": "5112ea5e",
   "metadata": {},
   "source": [
    "## EJERCICIO 28\n",
    "Crea una función que busque y devuelva el primer elemento duplicado en una lista dada. \n"
   ]
  },
  {
   "cell_type": "code",
   "execution_count": 13,
   "id": "403fcd8c",
   "metadata": {},
   "outputs": [
    {
     "name": "stdout",
     "output_type": "stream",
     "text": [
      "Hola\n"
     ]
    }
   ],
   "source": [
    "def busca_duplicado(lista):\n",
    "\n",
    "    try:\n",
    "        if not isinstance(lista, list):\n",
    "            raise TypeError(\"Por favor introduce una lista\")\n",
    "        for elemento in lista:\n",
    "            if lista.count(elemento) > 1:\n",
    "                # Devolverá solo el primer elemento duplicado de la lista ya que devuelve el elemento\n",
    "                return elemento\n",
    "    except TypeError as e:\n",
    "        print(f\"Error: {e}\")\n",
    "\n",
    "print(busca_duplicado([3,6,\"Hola\",[],5,1,\"Hola\", 1]))"
   ]
  },
  {
   "cell_type": "markdown",
   "id": "e963215b",
   "metadata": {},
   "source": [
    "## EJERCICIO 29\n",
    "Crea una función que convierta una variable en una cadena de texto y enmascare todos los caracteres  con el \n",
    "carácter '#', excepto los últimos cuatro"
   ]
  },
  {
   "cell_type": "code",
   "execution_count": 14,
   "id": "e7f76c7b",
   "metadata": {},
   "outputs": [
    {
     "name": "stdout",
     "output_type": "stream",
     "text": [
      "####################lian\n",
      "##### ## ##### ## ##lian\n"
     ]
    }
   ],
   "source": [
    "def mascara_texto(cadena_texto):\n",
    "    cadena_texto = str(cadena_texto)  # Convertimos todo lo que nos pasen a string\n",
    "    longitud = len(cadena_texto)\n",
    "    if longitud <= 4:\n",
    "        return cadena_texto\n",
    "    else:\n",
    "        return \"#\" * (longitud - 4) + cadena_texto[-4:]\n",
    "print(mascara_texto(\"Vamos al barco de Julian\"))\n",
    "\n",
    "\n",
    "# Alternativa \n",
    "def mascara_texto_bis(cadena_texto):\n",
    "    cadena_texto = str(cadena_texto) # Convertimos todo lo que nos pasen a string\n",
    "    longitud = len(cadena_texto)\n",
    "    cadena_nueva = []\n",
    "    visibles = 4\n",
    "    # Contamos los caracteres alfanuméricos, ya que son los únicso que vamos a ocultar\n",
    "    car_total = sum(c.isalnum() for c in cadena_texto)\n",
    "    # Obtenemos el número de caracteres a ocultar\n",
    "    no_visible = car_total - visibles\n",
    "    # Comenzamos a ocultar caracteres\n",
    "    ocultos = 0\n",
    "    for c in cadena_texto:\n",
    "        if c.isalnum():\n",
    "            if ocultos < no_visible:\n",
    "                cadena_nueva.append('#')\n",
    "                ocultos += 1\n",
    "            else:\n",
    "                cadena_nueva.append(c)\n",
    "                ocultos += 1\n",
    "        else:\n",
    "            cadena_nueva.append(c)\n",
    "    return ''.join(cadena_nueva)\n",
    "    \n",
    "\n",
    "print(mascara_texto_bis(\"Vamos al barco de Julian\"))"
   ]
  },
  {
   "cell_type": "markdown",
   "id": "c12f4e96",
   "metadata": {},
   "source": [
    "## EJERCICIO 30\n",
    "Crea una función que determine si dos palabras son anagramas, es decir, si están formadas por las mismas letras pero en diferente orden.\n"
   ]
  },
  {
   "cell_type": "code",
   "execution_count": 15,
   "id": "5ae757e6",
   "metadata": {},
   "outputs": [
    {
     "name": "stdout",
     "output_type": "stream",
     "text": [
      "False\n",
      "True\n",
      "False\n",
      "False\n"
     ]
    }
   ],
   "source": [
    "def es_anagrama(palabra1, palabra2):\n",
    "    try:\n",
    "        if not isinstance(palabra1, str) or not isinstance(palabra2, str):\n",
    "            raise TypeError(\"Introduce dos palabras para comparar.\")\n",
    "\n",
    "        letras1 = sorted(set(palabra1.lower()))\n",
    "        letras2 = sorted(set(palabra2.lower()))\n",
    "        if not all(letra in letras1 for letra in letras2):\n",
    "            return False\n",
    "        else: \n",
    "            if not [palabra1.lower().count(letra1) for letra1 in letras1] == [palabra2.lower().count(letra2) for letra2 in letras2]:\n",
    "                return False\n",
    "            else:\n",
    "                return True\n",
    "    except TypeError as e:\n",
    "        print(f\"Error: {e}\")\n",
    "\n",
    "print(es_anagrama('listen', 'listens'))\n",
    "print(es_anagrama('python', 'typhon'))\n",
    "print(es_anagrama('hello', 'world'))\n",
    "\n",
    "# ALTERNATIVA\n",
    "def es_anagrama_bis(palabra1, palabra2):\n",
    "    from collections import Counter\n",
    "    try:\n",
    "        if not isinstance(palabra1, str) or not isinstance(palabra2, str):\n",
    "            raise TypeError(\"Introduce dos palabras para comparar\") \n",
    "        return Counter(palabra1) == Counter(palabra2)\n",
    "    except TypeError as e:\n",
    "        print(f\"Error: {e}\")\n",
    "\n",
    "print(es_anagrama_bis('listen', 'listens'))\n"
   ]
  },
  {
   "cell_type": "markdown",
   "id": "8eea19cd",
   "metadata": {},
   "source": [
    "## EJERCICIO 31\n",
    "Crea una función que solicite al usuario ingresar una lista de nombres y luego solicite un nombre para buscar en \n",
    "esa lista. Si el nombre está en la lista, se imprime un mensaje indicando que fue encontrado, de lo contrario, se \n",
    "lanza una excepción."
   ]
  },
  {
   "cell_type": "code",
   "execution_count": 17,
   "id": "375f0960",
   "metadata": {},
   "outputs": [
    {
     "name": "stdout",
     "output_type": "stream",
     "text": [
      "Ana está incluido en la lista.\n",
      "None\n"
     ]
    }
   ],
   "source": [
    "class NameNotFoundError(Exception):\n",
    "    \"\"\"\n",
    "    Excepción creada para el caso en el que no se encuentre el nombre en la lista.\n",
    "    \"\"\"\n",
    "    pass\n",
    "\n",
    "def busca_nombres(lista_nombres, nombre_objetivo):\n",
    "\n",
    "    try:\n",
    "        if not isinstance(lista_nombres, list) or not isinstance(nombre_objetivo, str) or not all(isinstance(nombre, str) for nombre in lista_nombres):\n",
    "            raise TypeError(\"Introduce una lista con nombres.\")\n",
    "        if not nombre_objetivo in lista_nombres:\n",
    "            raise NameNotFoundError(f\"{nombre_objetivo} no está en la lista\")\n",
    "        else:\n",
    "            print(f\"{nombre_objetivo} está incluido en la lista.\")\n",
    "\n",
    "    except TypeError as e:\n",
    "        print(f\"Error: {e}\")\n",
    "    except NameNotFoundError as e:\n",
    "        print(f\"Error: {e}\")\n",
    "\n",
    "\n",
    "print(busca_nombres(['Jaime', 'Juan', 'Ana'], 'Ana'))"
   ]
  },
  {
   "cell_type": "markdown",
   "id": "51be28e1",
   "metadata": {},
   "source": [
    "## EJERCICIO 32\n",
    "Crea una función que tome un nombre completo y una lista de empleados, busque el nombre completo en la lista y \n",
    "devuelve el puesto del empleado si está en la lista, de lo contrario, devuelve un mensaje indicando que la persona \n",
    "no trabaja aquí"
   ]
  },
  {
   "cell_type": "code",
   "execution_count": 18,
   "id": "833f4bd6",
   "metadata": {},
   "outputs": [
    {
     "name": "stdout",
     "output_type": "stream",
     "text": [
      "Error: Introduce una lista de empleados y puestos, y un nombre a buscar.\n",
      "None\n"
     ]
    }
   ],
   "source": [
    "def puesto_empleado(lista, nombre):\n",
    "\n",
    "    # Al indicar que la funciona toma una lista, suponemos que es una lista de diccionarios.\n",
    "    try:\n",
    "        if not isinstance(lista, list) or not all(isinstance(empleado, dict) for empleado in lista) or not isinstance(nombre, str):\n",
    "            raise TypeError(\"Introduce una lista de empleados y puestos, y un nombre a buscar.\")\n",
    "\n",
    "        for empleado in lista:\n",
    "            if empleado.get('Nombre') == nombre:\n",
    "                return f\"{nombre} trabaja de {empleado.get('Puesto')}\"\n",
    "        \n",
    "        return (f\"{nombre} no trabaja aquí.\")\n",
    "                \n",
    "    except TypeError as e:\n",
    "        print(f\"Error: {e}\")\n",
    "\n",
    "\n",
    "lista = [{'Nombre': 'Juan Pérez', 'Puesto': 'Contable'},\n",
    "        {'Nombre': 'Ana Martínez', 'Puesto': 'Técnica de Operaciones'}]\n",
    "#nombre = 'Juan Pérez'\n",
    "nombre = 5\n",
    "print(puesto_empleado(lista, nombre))"
   ]
  },
  {
   "cell_type": "markdown",
   "id": "3ff2f98c",
   "metadata": {},
   "source": [
    "## EJERCICIO 33\n",
    "Crea una función lambda que sume elementos correspondientes de dos listas dadas\n"
   ]
  },
  {
   "cell_type": "code",
   "execution_count": 19,
   "id": "38afde70",
   "metadata": {},
   "outputs": [
    {
     "name": "stdout",
     "output_type": "stream",
     "text": [
      "[2, 4, 6, 8]\n"
     ]
    }
   ],
   "source": [
    "def suma_listas(lista1, lista2):\n",
    "\n",
    "    try:\n",
    "        # Nos aseguramos de que los tipos son correctos\n",
    "        if not isinstance(lista1, list) or not isinstance(lista2, list) or not all(isinstance(elemento, (int, float)) for elemento in lista1) or not all(isinstance(elemento, (int, float)) for elemento in lista2):\n",
    "            raise TypeError(\"Introduce dos listas con núneros reales.\")\n",
    "        # En caso de que no tengamos datos en las listas se le al usuario una lista de números reales mediante un error\n",
    "        if not lista1 or not lista2:\n",
    "            raise ValueError(\"Las listas deben contener números reales.\")\n",
    "        \n",
    "        return list(map(lambda x,y: x+y, lista1, lista2))\n",
    "\n",
    "    except (ValueError, TypeError) as e:\n",
    "        print(f\"Error: {e}\")\n",
    "\n",
    "lista1 = [1,2,3,4,5,6]\n",
    "lista2 = [1,2,3,4]\n",
    "print(suma_listas(lista1, lista2))"
   ]
  },
  {
   "cell_type": "markdown",
   "id": "ffba802e",
   "metadata": {},
   "source": [
    "## EJERCICIO 34\n",
    "Crea una clase Arbol, define un arbol genérico con un tronco y ramas como atributos. \n",
    "Los métodos son: crecer_tronco, nueva_rama, crecer_ramas, quitar_rama e info_arbol.\n",
    "El objetivo es implementar esos métodos para manipular la estructura del arbol.\n",
    "Código a seguir:\n",
    "1. Inicializar el arbol con un tronco de longitud 1 y una lista vacía de ramas.\n",
    "2.  Implementar el método crecer_tronco para aumentar la longitud del tronco en una unidad.\n",
    "3. Implementar el método nueva_rama para agregar una nueva rama de longitud 1 a la lista de ramas.\n",
    "4. Implementar el método crecer_ramas para aumentar en una unidad la longitud de todas las ramas existentes.\n",
    "5. Implementar el método quitar_rama para eliminar una rama en una posición específica.\n",
    "6. Implementar el método info_arbol para devolver informacion sobre longitud del tronco, el numero\n",
    "de ramas y las longitudes de las mismas."
   ]
  },
  {
   "cell_type": "code",
   "execution_count": 20,
   "id": "b509872d",
   "metadata": {},
   "outputs": [
    {
     "data": {
      "text/plain": [
       "'Tronco: 2, número de ramas: 2, longitudes: [2, 1]'"
      ]
     },
     "execution_count": 20,
     "metadata": {},
     "output_type": "execute_result"
    }
   ],
   "source": [
    "class Arbol():\n",
    "    # Los árboles se van a implementar siempre con listas vacías y longitud de tronco 1, por lo que no necesita recibir ningún argumento\n",
    "    def __init__(self):\n",
    "        # Inicializamos el tronco y las ramas vacías\n",
    "        self.tronco = 1\n",
    "        self.ramas = []\n",
    "\n",
    "    # Cuando se llama a este método solo hace crecer una unidad el tronco, no necesita argumentos por parte del usuario.\n",
    "    def crecer_tronco(self):\n",
    "        self.tronco += 1\n",
    "    \n",
    "    # Cuando se llama a este método se incluye una nueva rama de longitud 1, no necesita argumentos.\n",
    "    def nueva_rama(self):\n",
    "        self.ramas.append(1)\n",
    "\n",
    "    def crecer_ramas(self):\n",
    "        for idx, rama in enumerate(self.ramas):\n",
    "            self.ramas[idx] += 1\n",
    "    \n",
    "    def quitar_rama(self, posicion):\n",
    "        try:\n",
    "            if not isinstance(posicion, int):\n",
    "                raise TypeError(\"La posición debe ser un número entero.\")\n",
    "            if posicion > (len(self.ramas)) or posicion < 1:\n",
    "                raise ValueError(\"Esa rama no existe\")\n",
    "            else: \n",
    "                # Restamos uno porque el usuario cuenta las ramas desde el 1, no desde el 0\n",
    "                longitud = self.ramas.pop(posicion - 1)\n",
    "                return f\"Se ha quitado una rama de longitud {longitud}.\"\n",
    "        except (TypeError, ValueError) as e:\n",
    "            print(f\"Error: {e}\")\n",
    "\n",
    "    def info_arbol(self):\n",
    "        return f\"Tronco: {self.tronco}, número de ramas: {len(self.ramas)}, longitudes: {self.ramas}\"\n",
    "\n",
    "a = Arbol()\n",
    "a.crecer_tronco()\n",
    "a.nueva_rama()\n",
    "a.crecer_ramas()\n",
    "a.nueva_rama()\n",
    "a.nueva_rama()\n",
    "a.quitar_rama(2)\n",
    "a.info_arbol()"
   ]
  },
  {
   "cell_type": "markdown",
   "id": "831e72ea",
   "metadata": {},
   "source": [
    "## EJERCICIO 35\n",
    "No existe el ejercicio 35 de la Kata"
   ]
  },
  {
   "cell_type": "markdown",
   "id": "e4858f31",
   "metadata": {},
   "source": [
    "## EJERCICIO 36\n",
    "Crea la clase usuarioBanco, representa a un usuario de un banco con su nombre,\n",
    "su saldo y si tiene o no cuenta corriente. Proporciona métodos para realizar\n",
    "operaciones como retirar dinero, transferir dinero desde otro usuario y agregar\n",
    "dinero al saldo.\n",
    "Código a seguir:\n",
    "1. Inicializar un usuario con su nombre, saldo y si tiene o no cuenta corriente mediante \n",
    "True y False.\n",
    "2. Implementar el método retirar_dinero para retirar dinero del saldo del usuario. \n",
    "Lanzará un error en caso de no poder hacerse.\n",
    "3. Implementar el método transferir_dinero para realizar una transferencia desde otro \n",
    "usuario al usuario actual. Lanzará un error en caso de no poder hacerse.\n",
    "4. Implementar el método agregar_dinero para agregar dinero al saldo del usuario.\n"
   ]
  },
  {
   "cell_type": "code",
   "execution_count": 21,
   "id": "9fc9c09c",
   "metadata": {},
   "outputs": [
    {
     "name": "stdout",
     "output_type": "stream",
     "text": [
      "Se han agregado 20 a la cuenta de Bob. Nuevo saldo: 70\n",
      "Bob no dispone de suficiente dinero para la transferencia.\n",
      "Alicia ha retirado 50. Nuevo saldo: 50.\n",
      "Usuario: Bob, Saldo: 70€, Cuenta Corriente: Si\n",
      "Usuario: Alicia, Saldo: 50€, Cuenta Corriente: Si\n"
     ]
    }
   ],
   "source": [
    "class usuarioBanco():\n",
    "\n",
    "    def __init__(self, nombre, saldo, cuenta_corriente):\n",
    "        self.nombre = nombre\n",
    "        self.saldo = saldo\n",
    "        self.cuenta_corriente = cuenta_corriente\n",
    "\n",
    "    def retirar_dinero(self, cantidad):\n",
    "        if not self.cuenta_corriente:\n",
    "            return f\"No puede realizarse la operación. {self.nombre} no tiene cuena corriente.\"\n",
    "        if cantidad <= 0:\n",
    "            return f\"La cantidad ha de ser mayor que 0.\"\n",
    "        elif cantidad > self.saldo:\n",
    "            return f\"No puede realizarse la operación. El importe a retirar es mayor que el saldo.\"\n",
    "        elif cantidad > 0:\n",
    "            self.saldo -= cantidad\n",
    "            return f\"{self.nombre} ha retirado {cantidad}. Nuevo saldo: {self.saldo}.\"\n",
    "\n",
    "    def transferir_dinero(self, destinatario, cantidad):\n",
    "        # En este método se retira dineror a una cuenta y se agrega a otra\n",
    "        # y por tanto debemos comprobar que es usuario del banco y que tiene dinero.\n",
    "        if not isinstance(destinatario, usuarioBanco):\n",
    "            return f\"El destinatario debe ser un usuario válido\"\n",
    "        if not self.cuenta_corriente or not destinatario.cuenta_corriente:\n",
    "            return f\"Ambos usuarios deben tener una cuenta corriente.\"\n",
    "        if cantidad <= 0:\n",
    "            return \"La cantidad debe ser mayor que 0.\"\n",
    "        if cantidad > self.saldo:\n",
    "            return f\"{self.nombre} no dispone de suficiente dinero para la transferencia.\"\n",
    "        self.saldo -= cantidad\n",
    "        destinatario.agregar_dinero(cantidad)\n",
    "        return f\"{self.nombre} ha ingresado {cantidad} a {destinatario.nombre}. Saldo restante: {self.saldo}\"\n",
    "\n",
    "    def agregar_dinero(self, cantidad):\n",
    "        if cantidad > 0:\n",
    "            self.saldo += cantidad\n",
    "            return f\"Se han agregado {cantidad} a la cuenta de {self.nombre}. Nuevo saldo: {self.saldo}\"\n",
    "\n",
    "    def __str__(self):\n",
    "        # Esta función se añade para consultar el estado de la cuenta de un usuario, aunque no se\n",
    "        # pida en el enunciado\n",
    "        tipo_cuenta = \"Si\" if self.cuenta_corriente else \"No\"\n",
    "        return f\"Usuario: {self.nombre}, Saldo: {self.saldo}€, Cuenta Corriente: {tipo_cuenta}\"\n",
    " \n",
    "bob = usuarioBanco(\"Bob\", 50, True)\n",
    "alicia = usuarioBanco(\"Alicia\", 100, True)\n",
    "\n",
    "print(bob.agregar_dinero(20))          # Bob agrega 20€\n",
    "print(bob.transferir_dinero(alicia, 80))  # Bob transfiere 80€ a Alicia\n",
    "print(alicia.retirar_dinero(50))       # Alicia retira 50€\n",
    "print(bob)\n",
    "print(alicia)"
   ]
  },
  {
   "cell_type": "markdown",
   "id": "0d16237b",
   "metadata": {},
   "source": [
    "## EJERCICIO 37\n",
    "Crea una funcion llamada procesar_texto que procesa un texto según la opción especificada:\n",
    "contar_palabras, reemplazar_palabras, eliminar_palabra. Estas opciones son otras funciones\n",
    "que tenemos que definir primero y llamar dentro de la función procesar_texto.\n",
    "Código a seguir:\n",
    "1. Crear una funcion contar_palabras para contar el número de veces qeu aparece cada palabra\n",
    "en el texto. Tiene que devolver un diccionario.\n",
    "2. Crear una función reemplazar_palabras para reemplazar una palabra_original del texto por\n",
    "una palabra_nueva. Tiene que devolver el texto con el reemplazo de palabras.\n",
    "3. Crear una funcion eliminar_palabra para eliminar una palabra del texto. Tiene que devolver\n",
    "el texto con la palabra eliminada.\n",
    "4. Crear la funcion procesar_texto que tome un texto, una opción de las anteriores y un número\n",
    "de argumentos variable según la opción indicada.\n",
    "Caso de uso:\n",
    "Comprueba el funcionamiento completo de la función procesar_texto"
   ]
  },
  {
   "cell_type": "code",
   "execution_count": 22,
   "id": "b260eb71",
   "metadata": {},
   "outputs": [
    {
     "name": "stdout",
     "output_type": "stream",
     "text": [
      "{'hola': 3, 'mundo': 1, 'python': 1, 'programación': 1}\n",
      "adiós mundo adiós python adiós programación\n",
      "hola mundo hola  hola programación\n"
     ]
    }
   ],
   "source": [
    "def contar_palabras(texto):\n",
    "    try:\n",
    "        if not isinstance(texto, str) or not texto:\n",
    "            raise TypeError(\"Introduce un texto.\")\n",
    "        palabras = texto.split()\n",
    "        cuenta_palabras = {}\n",
    "        for palabra in palabras:\n",
    "            cuenta_palabras[palabra] = cuenta_palabras.get(palabra, 0) + 1\n",
    "        return cuenta_palabras\n",
    "    except TypeError as e:\n",
    "        print(f\"Error: {e}\")\n",
    "\n",
    "def reemplazar_palabras(texto, palabra_original, palabra_nueva):\n",
    "    try:\n",
    "        if not isinstance(texto, str) or not isinstance(palabra_original, str) or not isinstance(palabra_nueva, str):\n",
    "           raise TypeError()\n",
    "        # añadir excepciones para palabras vacías \n",
    "        return texto.replace(palabra_original, palabra_nueva)\n",
    "    except TypeError as e:\n",
    "        print(f\"Error: {e}\")\n",
    "\n",
    "def eliminar_palabra(texto, palabra):\n",
    "    # Entiendo que el enunciado se refiere a que tiene que devolver el texto SIN la palabra eliminada\n",
    "    # ya que devolver el texto con la palabra eliminada sería devolver lo mismo que recibe\n",
    "    return texto.replace(palabra, \"\")\n",
    "\n",
    "def procesar_texto(texto, opcion, *args):\n",
    "    # Opcion 1\n",
    "    if opcion == 'contar':\n",
    "        return contar_palabras(texto)\n",
    "    elif opcion == 'reemplazar':\n",
    "        if len(args) != 2:\n",
    "            raise ValueError(\"Se requieren dos palabras. Una palabra_original y otra palabra_nueva.\") \n",
    "        return reemplazar_palabras(texto, args[0], args[1])\n",
    "    elif opcion == 'eliminar': \n",
    "        if len(args) != 1:\n",
    "            raise ValueError(\"Se requiere un único argumento, la palabra a eliminar.\")\n",
    "        return eliminar_palabra(texto, args[0])\n",
    "    else: \n",
    "        raise ValueError(\"Opción no válida. Elige entre: 'contar', 'reemplazar' y 'eliminar'.\")\n",
    "\n",
    "# Casos de uso\n",
    "texto_ejemplo = \"hola mundo hola python hola programación\"\n",
    "\n",
    "# Contar palabras\n",
    "print(procesar_texto(texto_ejemplo, \"contar\"))\n",
    "# Salida: {'hola': 3, 'mundo': 1, 'python': 1, 'programación': 1}\n",
    "\n",
    "# Reemplazar palabras\n",
    "print(procesar_texto(texto_ejemplo, \"reemplazar\", \"hola\", \"adiós\"))\n",
    "# Salida: \"adiós mundo adiós python adiós programación\"\n",
    "\n",
    "# Eliminar palabra\n",
    "print(procesar_texto(texto_ejemplo, \"eliminar\", \"python\"))\n",
    "# Salida: \"hola mundo hola  hola programación\""
   ]
  },
  {
   "cell_type": "markdown",
   "id": "7c6e53e9",
   "metadata": {},
   "source": [
    "## EJERCICIO 38\n",
    "Genera un programa que nos diga si es de noche, de día o tarde según la hora \n",
    "proporcionada por el usuario."
   ]
  },
  {
   "cell_type": "code",
   "execution_count": 23,
   "id": "85ce8395",
   "metadata": {},
   "outputs": [
    {
     "name": "stdout",
     "output_type": "stream",
     "text": [
      "Estamos en la tarde del día 02-10\n"
     ]
    }
   ],
   "source": [
    "# Vamos a suponer unos horarios de 8h para cada momento del día:\n",
    "# - Mañana de 6:00 a 14:00\n",
    "# - Tarde de 14:00 a 22:00\n",
    "# - Noche de 22:00 a 6:00\n",
    "\n",
    "from datetime import datetime\n",
    "dia = datetime.now().strftime(\"%d-%m\")\n",
    "ahora = datetime.now().hour\n",
    "\n",
    "if 6 <= ahora < 14:\n",
    "    print(f\"Estamos en la mañana del día {dia}\") \n",
    "elif 14 <= ahora < 22:\n",
    "    print(f\"Estamos en la tarde del día {dia}\") \n",
    "else:\n",
    "    print(f\"Estamos en la noche del día {dia}\") "
   ]
  },
  {
   "cell_type": "markdown",
   "id": "a7b1c948",
   "metadata": {},
   "source": [
    "## EJERCICIO 39\n",
    "Escribe un programa que determine qué calificación en texto tiene un alumno en base a su calificación numérica. \n",
    "Las reglas de calificación son:\n",
    " - 0 - 69 insuficiente\n",
    " - 70 - 79 bien\n",
    " - 80 - 89 muy bien\n",
    " - 90 - 100 excelente"
   ]
  },
  {
   "cell_type": "code",
   "execution_count": 26,
   "id": "c317397b",
   "metadata": {},
   "outputs": [
    {
     "name": "stdout",
     "output_type": "stream",
     "text": [
      "Su calificación es Insuficiente.\n"
     ]
    }
   ],
   "source": [
    "try:\n",
    "    calificacion_str = input(\"Introduce tu calificación: \").strip()\n",
    "    if calificacion_str != '':\n",
    "        calificacion = int(calificacion_str)\n",
    "        if calificacion < 0 or calificacion > 100:\n",
    "            raise ValueError(\"Introduce una calificación entre 0 y 100.\")\n",
    "        if 0 <= calificacion <= 69:\n",
    "            print(\"Su calificación es Insuficiente.\")\n",
    "        elif 70 <= calificacion <= 79:\n",
    "            print(\"Su calificación es Bien.\")\n",
    "        elif 80 <= calificacion <= 89:\n",
    "            print(\"Su calificación es Muy bien.\")\n",
    "        elif 90 <= calificacion <= 100:\n",
    "            print(\"Su calificación es Excelente.\")\n",
    "    else:\n",
    "        raise ValueError(\"Introduce una calificación entre 0 y 100.\")\n",
    "except ValueError as e:\n",
    "    print(f\"Error: {e}\")\n"
   ]
  },
  {
   "cell_type": "markdown",
   "id": "01e51fcf",
   "metadata": {},
   "source": [
    "## EJERCICIO 40\n",
    "Escribe una función que tome dos parámetros: figura (una cadena que puede ser \n",
    "\"rectangulo\", \"circulo\" o \"triangulo\" ) y datos (una tupla con los datos \n",
    "necesarios para calcular el área de la figura)."
   ]
  },
  {
   "cell_type": "code",
   "execution_count": 27,
   "id": "77c855d7",
   "metadata": {},
   "outputs": [
    {
     "name": "stdout",
     "output_type": "stream",
     "text": [
      "50\n",
      "No se puede calcular esa figura. Prueba con 'circulo', 'rectangulo' o 'triangulo'\n"
     ]
    }
   ],
   "source": [
    "def calculo_area(figura,datos):\n",
    "    import math\n",
    "    try:\n",
    "        if not isinstance(figura, str) or not figura:\n",
    "            raise TypeError(\"Introduce un tipo de figura para calcular su área.\")\n",
    "        if figura.lower() == \"triangulo\":\n",
    "            if len(datos) != 2:\n",
    "                raise ValueError(\"Se necesitan dos argumentos: base y altura\")\n",
    "            else:\n",
    "                base, altura = datos\n",
    "                return base*altura/2\n",
    "        elif figura.lower() == \"rectangulo\":\n",
    "            if len(datos) != 2:\n",
    "                raise ValueError(\"Se necesitan dos argumentos: base y altura\")\n",
    "            else:\n",
    "                base, altura = datos\n",
    "                return base*altura\n",
    "        elif figura.lower() == \"circulo\":\n",
    "            if len(datos) != 1:\n",
    "                raise ValueError(\"Se necesita un solo argumento: radio\")\n",
    "            else:\n",
    "                # en este caso datos es el radio\n",
    "                return 2*math.pi()*datos**2\n",
    "        else: \n",
    "            return \"No se puede calcular esa figura. Prueba con 'circulo', 'rectangulo' o 'triangulo'\"\n",
    "\n",
    "    except (ValueError, TypeError) as e:\n",
    "        print(f\"Error: {e}\")\n",
    "\n",
    "print(calculo_area(\"Rectangulo\", (5,10)))\n",
    "print(calculo_area(\"rombo\", (3,10)))"
   ]
  },
  {
   "cell_type": "markdown",
   "id": "4d9d464b",
   "metadata": {},
   "source": [
    "## EJERCICIO 41\n",
    "En este ejercicio, se te pedirá que escribas un programa en python que utilice\n",
    "condicionales para determinar el monto final de una compra en una tienda online,\n",
    "después de aplicar un descuento. El programa debe hacer lo siguiente.\n",
    "1. Solicita al usuairo que ingrese el precio original de un artículo.\n",
    "2. Pregunta al usuario si tiene un cupón de descuento (respuesta si o no).\n",
    "3. Si el usuario responde que sí, solicita que ingrese el valor del cupón de \n",
    "de descuento.\n",
    "4. Aplica el descuento al precio original del artículo, siempre y cuando el valor\n",
    "del cupón sea válido (es decir, mayor a cero). Por ejemplo, descuento de 15€.\n",
    "5. Muestra el precio final de la compra, teniendo en cuenta el descuento aplicado o sin él.\n",
    "6. Recuerda utilizar estructuras de control de flujo como if, elif, y else para \n",
    "llevar a cabo estas acciones en tu programa python"
   ]
  },
  {
   "cell_type": "code",
   "execution_count": 28,
   "id": "c179403e",
   "metadata": {},
   "outputs": [
    {
     "name": "stdout",
     "output_type": "stream",
     "text": [
      "El precio final del producto es 2490.5€\n"
     ]
    }
   ],
   "source": [
    "try:\n",
    "    precio_original = float(input(\"Introduce el precio original del producto\"))\n",
    "    if precio_original <= 0:\n",
    "        # No hace falta asegurar el tipo de dato ya que se ha convertido a float\n",
    "        raise ValueError(\"El precio del producto debe ser mayor que 0€.\")\n",
    "    else:\n",
    "        descuento = input(\"Indique Si, si el producto tiene descuento. En caso contrario, No.\").strip().lower()\n",
    "        if not descuento in (\"si\", \"no\"):\n",
    "            raise ValueError(\"No se ha podido validar si el producto tiene descuento. Inténtelo de nuevo\")\n",
    "        if descuento == \"si\":\n",
    "            try:\n",
    "                # Suponemos que el descuento es un porcentaje entero, por ejemplo 15%\n",
    "                tipo_descuento = input(\"Introduce la porcentaje de descuento: \").strip()\n",
    "                if not tipo_descuento:\n",
    "                    raise ValueError(\"No se ha podido validar dicho descuento. Inténtelo de nuevo.\")\n",
    "                if int(tipo_descuento) <= 0:\n",
    "                    raise ValueError(\"No se ha podido validar dicho descuento. Inténtelo de nuevo.\")\n",
    "                # Lo convertimos en entero y lo pasamos a decimal\n",
    "                tipo_descuento = int(tipo_descuento)/100\n",
    "                print(f\"El precio final del producto es {precio_original * (1-tipo_descuento)}€\")\n",
    "            except ValueError as e:\n",
    "                print(f\"Error: {e}\")\n",
    "        elif descuento == \"no\":\n",
    "            print(f\"El precio final del producto es {precio_original}€\")\n",
    "except ValueError as e:\n",
    "    print(f\"Error: {e}\")"
   ]
  }
 ],
 "metadata": {
  "kernelspec": {
   "display_name": "venv",
   "language": "python",
   "name": "python3"
  },
  "language_info": {
   "codemirror_mode": {
    "name": "ipython",
    "version": 3
   },
   "file_extension": ".py",
   "mimetype": "text/x-python",
   "name": "python",
   "nbconvert_exporter": "python",
   "pygments_lexer": "ipython3",
   "version": "3.12.10"
  }
 },
 "nbformat": 4,
 "nbformat_minor": 5
}
